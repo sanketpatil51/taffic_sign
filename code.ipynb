{
  "cells": [
    {
      "cell_type": "markdown",
      "metadata": {
        "id": "view-in-github",
        "colab_type": "text"
      },
      "source": [
        "<a href=\"https://colab.research.google.com/github/sanketpatil51/taffic_sign/blob/main/dataset.ipynb\" target=\"_parent\"><img src=\"https://colab.research.google.com/assets/colab-badge.svg\" alt=\"Open In Colab\"/></a>"
      ]
    },
    {
      "cell_type": "code",
      "execution_count": 15,
      "metadata": {
        "colab": {
          "base_uri": "https://localhost:8080/"
        },
        "id": "izLZBgVWUzl6",
        "outputId": "693e8e32-a789-40cb-a93f-e4430fc66237"
      },
      "outputs": [
        {
          "output_type": "stream",
          "name": "stdout",
          "text": [
            "Drive already mounted at /content/drive; to attempt to forcibly remount, call drive.mount(\"/content/drive\", force_remount=True).\n"
          ]
        }
      ],
      "source": [
        "from google.colab import drive\n",
        "drive.mount('/content/drive')\n"
      ]
    },
    {
      "cell_type": "markdown",
      "source": [
        "Unzip the file"
      ],
      "metadata": {
        "id": "6VPJOqdNj-xj"
      }
    },
    {
      "cell_type": "code",
      "execution_count": null,
      "metadata": {
        "colab": {
          "base_uri": "https://localhost:8080/"
        },
        "id": "ccWLAAecV5dW",
        "outputId": "18d5f8c6-df0c-4545-836d-4aad5e953521"
      },
      "outputs": [
        {
          "name": "stdout",
          "output_type": "stream",
          "text": [
            "Extraction complete.\n"
          ]
        }
      ],
      "source": [
        "import zipfile\n",
        "import os\n",
        "\n",
        "zip_file_path = \"/content/drive/MyDrive/data/traffic.zip\"\n",
        "extracted_folder_path = \"/content/drive/MyDrive/data/data\"\n",
        "\n",
        "# Check if the zip file exists\n",
        "if os.path.exists(zip_file_path):\n",
        "    # Extract the zip file\n",
        "    with zipfile.ZipFile(zip_file_path, 'r') as zip_ref:\n",
        "        zip_ref.extractall(extracted_folder_path)\n",
        "    print(\"Extraction complete.\")\n",
        "else:\n",
        "    print(\"Zip file not found at the specified path.\")\n"
      ]
    },
    {
      "cell_type": "markdown",
      "source": [
        "Import the data"
      ],
      "metadata": {
        "id": "uaW81W75kIcO"
      }
    },
    {
      "cell_type": "code",
      "execution_count": 5,
      "metadata": {
        "colab": {
          "base_uri": "https://localhost:8080/"
        },
        "id": "nLlGBO1MUqfb",
        "outputId": "6f235744-e66d-40d7-c927-dfc605309703"
      },
      "outputs": [
        {
          "output_type": "stream",
          "name": "stdout",
          "text": [
            "Done: Ahead only\n",
            "Done: Beware of icesnow\n",
            "Done: Bicycles crossing\n",
            "Done: Bumpy road\n",
            "Done: Children crossing\n",
            "Done: Dangerous curve to the left\n",
            "Done: Dangerous curve to the right\n",
            "Done: Double curve\n",
            "Done: End of all speed and passing limits\n",
            "Done: End of no passing by vechiles over 3.5 metric tons\n",
            "Done: End of no passing\n",
            "Done: End of speed limit (80kmh)\n",
            "Done: General caution\n",
            "Done: Go straight or left\n",
            "Done: Go straight or right\n",
            "Done: Keep left\n",
            "Done: Keep right\n",
            "Done: No entry\n",
            "Done: No passing for vechiles over 3.5 metric tons\n",
            "Done: No passing\n",
            "Done: No vechiles\n",
            "Done: Pedestrians\n",
            "Done: Priority road\n",
            "Done: Right-of-way at the next intersection\n",
            "Done: Road narrows on the right\n",
            "Done: Road work\n",
            "Done: Roundabout mandatory\n",
            "Done: Slippery road\n",
            "Done: Speed limit (100kmh)\n",
            "Done: Speed limit (120kmh)\n",
            "Done: Speed limit (20kmh)\n",
            "Done: Speed limit (30kmh)\n",
            "Done: Speed limit (50kmh)\n",
            "Done: Speed limit (60kmh)\n",
            "Done: Speed limit (70kmh)\n",
            "Done: Speed limit (80kmh)\n",
            "Done: Stop\n",
            "Done: Traffic signals\n",
            "Done: Turn left ahead\n",
            "Done: Turn right ahead\n",
            "Done: Vechiles over 3.5 metric tons prohibited\n",
            "Done: Wild animals crossing\n",
            "Done: Yield\n"
          ]
        }
      ],
      "source": [
        "import os\n",
        "import cv2\n",
        "\n",
        "data = list()\n",
        "labels = list()\n",
        "images = list()\n",
        "\n",
        "folder_path = r\"/content/drive/MyDrive/data/data\"\n",
        "folder_list = os.listdir(folder_path)\n",
        "\n",
        "for folder in folder_list:\n",
        "    particular_folder_path = os.path.join(folder_path, folder)\n",
        "    img_list_from_particular_folder = os.listdir(particular_folder_path)\n",
        "\n",
        "    for i in img_list_from_particular_folder:\n",
        "        img_path = os.path.join(particular_folder_path, i)\n",
        "        img = cv2.imread(img_path)\n",
        "        img\n",
        "\n",
        "        img_resize = cv2.resize(img, (32, 32), interpolation=cv2.INTER_LINEAR)\n",
        "\n",
        "        data.append(img_resize)\n",
        "        labels.append(folder)\n",
        "\n",
        "    print(\"Done:\", folder)\n",
        "\n",
        "\n"
      ]
    },
    {
      "cell_type": "markdown",
      "source": [
        "Split the train test"
      ],
      "metadata": {
        "id": "Zc0uisN4kPRh"
      }
    },
    {
      "cell_type": "code",
      "execution_count": 6,
      "metadata": {
        "colab": {
          "base_uri": "https://localhost:8080/"
        },
        "id": "wkqx-C42HGQo",
        "outputId": "9abcbff0-e725-4d2d-afac-4bef54bb3376"
      },
      "outputs": [
        {
          "output_type": "stream",
          "name": "stdout",
          "text": [
            "X_train shape: (26076, 32, 32, 3)\n",
            "X_test shape: (6519, 32, 32, 3)\n",
            "y_train shape: (26076, 42)\n",
            "y_test shape: (6519, 42)\n"
          ]
        }
      ],
      "source": [
        "\n",
        "import numpy as np\n",
        "from sklearn.model_selection import train_test_split\n",
        "from sklearn.preprocessing import LabelEncoder\n",
        "\n",
        "\n",
        "data = np.array(data)\n",
        "labels = np.array(labels)\n",
        "\n",
        "\n",
        "label_encoder = LabelEncoder()\n",
        "labels_encoded = label_encoder.fit_transform(labels)\n",
        "num_classes = len(np.unique(labels_encoded))\n",
        "labels_one_hot = np.eye(num_classes)[labels_encoded]\n",
        "\n",
        "X_train, X_test, y_train, y_test = train_test_split(data, labels_one_hot, test_size=0.2, random_state=42)\n",
        "\n",
        "\n",
        "print(\"X_train shape:\", X_train.shape)\n",
        "print(\"X_test shape:\", X_test.shape)\n",
        "print(\"y_train shape:\", y_train.shape)\n",
        "print(\"y_test shape:\", y_test.shape)\n"
      ]
    },
    {
      "cell_type": "markdown",
      "source": [
        "Import the require library"
      ],
      "metadata": {
        "id": "yaM9gsAzkWOS"
      }
    },
    {
      "cell_type": "code",
      "execution_count": 7,
      "metadata": {
        "id": "1Cdc7yUaR08y"
      },
      "outputs": [],
      "source": [
        "import tensorflow as tf\n",
        "import matplotlib.pyplot as plt\n",
        "from keras.models import Sequential\n",
        "from keras.layers import Dense\n",
        "from keras.optimizers import Adam\n",
        "from keras.layers import Dropout, Flatten\n",
        "from keras.layers import Conv2D, MaxPooling2D\n",
        "import cv2\n",
        "from sklearn.model_selection import train_test_split\n",
        "import pickle\n",
        "import os\n",
        "import pandas as pd\n",
        "from keras.preprocessing.image import ImageDataGenerator"
      ]
    },
    {
      "cell_type": "markdown",
      "source": [
        "Data Augmentation"
      ],
      "metadata": {
        "id": "ORbBpiJDkpYa"
      }
    },
    {
      "cell_type": "code",
      "execution_count": 25,
      "metadata": {
        "id": "QrpDohfoR3ZP"
      },
      "outputs": [],
      "source": [
        "dataGen = ImageDataGenerator(width_shift_range=0.1,\n",
        "                             height_shift_range=0.1,\n",
        "                             zoom_range=0.2,\n",
        "                             shear_range=0.1,\n",
        "                             rotation_range=10)\n",
        "\n",
        "dataGen.fit(X_train)\n",
        "\n",
        "\n",
        "batches= dataGen.flow(X_train,y_train,batch_size=20)\n",
        "X_batch,y_batch = next(batches)"
      ]
    },
    {
      "cell_type": "markdown",
      "source": [
        "Model"
      ],
      "metadata": {
        "id": "Q4M3bvP6k9U6"
      }
    },
    {
      "cell_type": "code",
      "execution_count": 26,
      "metadata": {
        "colab": {
          "base_uri": "https://localhost:8080/"
        },
        "id": "E-k6xVJKYCZE",
        "outputId": "5da48eae-85d0-4828-fb87-3488ca8689ed"
      },
      "outputs": [
        {
          "output_type": "stream",
          "name": "stderr",
          "text": [
            "WARNING:absl:`lr` is deprecated in Keras optimizer, please use `learning_rate` or use the legacy optimizer, e.g.,tf.keras.optimizers.legacy.Adam.\n"
          ]
        },
        {
          "output_type": "stream",
          "name": "stdout",
          "text": [
            "Model: \"sequential_2\"\n",
            "_________________________________________________________________\n",
            " Layer (type)                Output Shape              Param #   \n",
            "=================================================================\n",
            " conv2d_8 (Conv2D)           (None, 28, 28, 60)        4560      \n",
            "                                                                 \n",
            " conv2d_9 (Conv2D)           (None, 24, 24, 60)        90060     \n",
            "                                                                 \n",
            " max_pooling2d_4 (MaxPoolin  (None, 12, 12, 60)        0         \n",
            " g2D)                                                            \n",
            "                                                                 \n",
            " conv2d_10 (Conv2D)          (None, 10, 10, 30)        16230     \n",
            "                                                                 \n",
            " conv2d_11 (Conv2D)          (None, 8, 8, 30)          8130      \n",
            "                                                                 \n",
            " max_pooling2d_5 (MaxPoolin  (None, 4, 4, 30)          0         \n",
            " g2D)                                                            \n",
            "                                                                 \n",
            " flatten_2 (Flatten)         (None, 480)               0         \n",
            "                                                                 \n",
            " dense_4 (Dense)             (None, 500)               240500    \n",
            "                                                                 \n",
            " dense_5 (Dense)             (None, 42)                21042     \n",
            "                                                                 \n",
            "=================================================================\n",
            "Total params: 380522 (1.45 MB)\n",
            "Trainable params: 380522 (1.45 MB)\n",
            "Non-trainable params: 0 (0.00 Byte)\n",
            "_________________________________________________________________\n"
          ]
        }
      ],
      "source": [
        "from keras.models import Sequential\n",
        "from keras.layers import Conv2D, MaxPooling2D, Flatten, Dense, Dropout\n",
        "from keras.optimizers import Adam\n",
        "\n",
        "\n",
        "model = Sequential()\n",
        "\n",
        "\n",
        "model.add(Conv2D(60, (5, 5), input_shape=(32, 32, 3), activation='relu'))\n",
        "model.add(Conv2D(60, (5, 5), activation='relu'))\n",
        "model.add(MaxPooling2D(pool_size=(2, 2)))\n",
        "\n",
        "\n",
        "model.add(Conv2D(30, (3, 3), activation='relu'))\n",
        "model.add(Conv2D(30, (3, 3), activation='relu'))\n",
        "model.add(MaxPooling2D(pool_size=(2, 2)))\n",
        "\n",
        "\n",
        "model.add(Flatten())\n",
        "\n",
        "model.add(Dense(500, activation='relu'))\n",
        "\n",
        "model.add(Dense(num_classes, activation='softmax'))\n",
        "\n",
        "model.compile(Adam(lr=0.001), loss='categorical_crossentropy', metrics=['accuracy'])\n",
        "\n",
        "# Print the model summary\n",
        "model.summary()\n"
      ]
    },
    {
      "cell_type": "code",
      "execution_count": 27,
      "metadata": {
        "colab": {
          "base_uri": "https://localhost:8080/"
        },
        "id": "i7FVLN_hYSmH",
        "outputId": "224612dc-c57e-4780-ba2f-dc3043376270"
      },
      "outputs": [
        {
          "output_type": "stream",
          "name": "stdout",
          "text": [
            "Epoch 1/10\n"
          ]
        },
        {
          "output_type": "stream",
          "name": "stderr",
          "text": [
            "<ipython-input-27-06a723b884cd>:5: UserWarning: `Model.fit_generator` is deprecated and will be removed in a future version. Please use `Model.fit`, which supports generators.\n",
            "  history = model.fit_generator(dataGen.flow(X_train/255, y_train, batch_size=batch_size_val),\n"
          ]
        },
        {
          "output_type": "stream",
          "name": "stdout",
          "text": [
            "814/814 [==============================] - 22s 25ms/step - loss: 1.5819 - accuracy: 0.5248 - val_loss: 0.2874 - val_accuracy: 0.9104\n",
            "Epoch 2/10\n",
            "814/814 [==============================] - 19s 24ms/step - loss: 0.4177 - accuracy: 0.8687 - val_loss: 0.1162 - val_accuracy: 0.9656\n",
            "Epoch 3/10\n",
            "814/814 [==============================] - 19s 24ms/step - loss: 0.2267 - accuracy: 0.9299 - val_loss: 0.0568 - val_accuracy: 0.9842\n",
            "Epoch 4/10\n",
            "814/814 [==============================] - 20s 25ms/step - loss: 0.1711 - accuracy: 0.9466 - val_loss: 0.0386 - val_accuracy: 0.9890\n",
            "Epoch 5/10\n",
            "814/814 [==============================] - 21s 25ms/step - loss: 0.1298 - accuracy: 0.9589 - val_loss: 0.0305 - val_accuracy: 0.9922\n",
            "Epoch 6/10\n",
            "814/814 [==============================] - 19s 23ms/step - loss: 0.1206 - accuracy: 0.9661 - val_loss: 0.0262 - val_accuracy: 0.9936\n",
            "Epoch 7/10\n",
            "814/814 [==============================] - 20s 25ms/step - loss: 0.1010 - accuracy: 0.9689 - val_loss: 0.0302 - val_accuracy: 0.9899\n",
            "Epoch 8/10\n",
            "814/814 [==============================] - 19s 23ms/step - loss: 0.0927 - accuracy: 0.9722 - val_loss: 0.0223 - val_accuracy: 0.9934\n",
            "Epoch 9/10\n",
            "814/814 [==============================] - 21s 25ms/step - loss: 0.0791 - accuracy: 0.9765 - val_loss: 0.0194 - val_accuracy: 0.9939\n",
            "Epoch 10/10\n",
            "814/814 [==============================] - 19s 23ms/step - loss: 0.0739 - accuracy: 0.9779 - val_loss: 0.0223 - val_accuracy: 0.9946\n"
          ]
        }
      ],
      "source": [
        "\n",
        "batch_size_val = 32\n",
        "epochs_val = 10\n",
        "\n",
        "# Fit the model\n",
        "history = model.fit_generator(dataGen.flow(X_train/255, y_train, batch_size=batch_size_val),\n",
        "                              steps_per_epoch=len(X_train) // batch_size_val,\n",
        "                              epochs=epochs_val,\n",
        "                              validation_data=(X_test/255, y_test),\n",
        "                              shuffle=True)"
      ]
    },
    {
      "cell_type": "markdown",
      "source": [
        "Testing"
      ],
      "metadata": {
        "id": "EM7bkO6JlEW-"
      }
    },
    {
      "cell_type": "code",
      "source": [
        "import cv2\n",
        "import numpy as np\n",
        "import tensorflow as tf\n",
        "import matplotlib.pyplot as plt\n",
        "\n",
        "file_path = \"/content/drive/MyDrive/data/stop.png\"\n",
        "img = cv2.imread(file_path)\n",
        "\n",
        "img_resize = cv2.resize(img, (32, 32), interpolation=cv2.INTER_LINEAR)\n",
        "\n",
        "\n",
        "img_norm = img_resize/255\n",
        "img_expanded = np.expand_dims(img_norm, axis=0)\n",
        "\n",
        "\n",
        "prediction = model.predict(img_expanded)\n",
        "predicted_class_index = np.argmax(prediction[0])\n",
        "\n",
        "\n",
        "label_encoder = LabelEncoder()\n",
        "labels_encoded = label_encoder.fit_transform(labels)\n",
        "\n",
        "\n",
        "predicted_class_label = label_encoder.inverse_transform([predicted_class_index])[0]\n",
        "\n",
        "\n",
        "print(\"Predicted class index:\", predicted_class_index)\n",
        "print(\"Predicted class label:\", predicted_class_label)\n",
        "img_rgb = cv2.cvtColor(img, cv2.COLOR_BGR2RGB)\n",
        "\n",
        "# Display the image using Matplotlib\n",
        "plt.imshow(img_rgb)\n",
        "plt.axis('off')\n",
        "plt.show()"
      ],
      "metadata": {
        "colab": {
          "base_uri": "https://localhost:8080/",
          "height": 458
        },
        "id": "oa4QmP1uYoPJ",
        "outputId": "36c7e152-5961-4ca6-b1ac-084b44a7235b"
      },
      "execution_count": 28,
      "outputs": [
        {
          "output_type": "stream",
          "name": "stdout",
          "text": [
            "1/1 [==============================] - 0s 73ms/step\n",
            "Predicted class index: 36\n",
            "Predicted class label: Stop\n"
          ]
        },
        {
          "output_type": "display_data",
          "data": {
            "text/plain": [
              "<Figure size 640x480 with 1 Axes>"
            ],
            "image/png": "[encoded data removed]"
          },
          "metadata": {}
        }
      ]
    }
  ],
  "metadata": {
    "accelerator": "GPU",
    "colab": {
      "gpuType": "T4",
      "provenance": [],
      "authorship_tag": "ABX9TyOuF/hH40wUU4xVRw3eWZ3K",
      "include_colab_link": true
    },
    "kernelspec": {
      "display_name": "Python 3",
      "name": "python3"
    },
    "language_info": {
      "name": "python"
    }
  },
  "nbformat": 4,
  "nbformat_minor": 0
}
